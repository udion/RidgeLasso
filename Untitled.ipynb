{
 "cells": [
  {
   "cell_type": "code",
   "execution_count": 1,
   "metadata": {
    "collapsed": true
   },
   "outputs": [],
   "source": [
    "import numpy as np\n",
    "import pandas as pd\n"
   ]
  },
  {
   "cell_type": "code",
   "execution_count": 2,
   "metadata": {},
   "outputs": [
    {
     "data": {
      "text/plain": [
       "'\\nto make sample csv data file\\ndf = pd.DataFrame(np.random.random((15,25)))\\ndf.to_csv(\"test.csv\",index=False)\\n'"
      ]
     },
     "execution_count": 2,
     "metadata": {},
     "output_type": "execute_result"
    }
   ],
   "source": [
    "'''\n",
    "to make sample csv data file\n",
    "df = pd.DataFrame(np.random.random((15,25)))\n",
    "df.to_csv(\"test.csv\",index=False)\n",
    "'''"
   ]
  },
  {
   "cell_type": "code",
   "execution_count": 33,
   "metadata": {
    "collapsed": true
   },
   "outputs": [],
   "source": [
    "def get_feature_matrix(file_path):\n",
    "    df = pd.read_csv(file_path, header=0)\n",
    "    #print(df)\n",
    "    n_data = len(df.index)\n",
    "    n_feature = len(df.columns)\n",
    "    #print(n_data,n_feature)\n",
    "    '''\n",
    "    res = np.zeros((n_data, n_feature))\n",
    "\n",
    "    for i in range(0,n_feature):\n",
    "        res[:,i] = np.array(df.iloc[:,i])\n",
    "    return res\n",
    "    '''\n",
    "    res = df.values\n",
    "    return res"
   ]
  },
  {
   "cell_type": "code",
   "execution_count": 24,
   "metadata": {},
   "outputs": [],
   "source": [
    "df = pd.read_csv('test.csv', header=0)\n",
    "res = np.zeros((15,25)) #dumb \n",
    "res[:,1] = np.array(df.iloc[:,1])\n",
    "#print(df.iloc[:,1])"
   ]
  },
  {
   "cell_type": "code",
   "execution_count": 35,
   "metadata": {},
   "outputs": [
    {
     "data": {
      "text/plain": [
       "25"
      ]
     },
     "execution_count": 35,
     "metadata": {},
     "output_type": "execute_result"
    }
   ],
   "source": [
    "mat = get_feature_matrix(\"test.csv\")\n",
    "len(mat[1,:])"
   ]
  }
 ],
 "metadata": {
  "kernelspec": {
   "display_name": "Python 3",
   "language": "python",
   "name": "python3"
  },
  "language_info": {
   "codemirror_mode": {
    "name": "ipython",
    "version": 3
   },
   "file_extension": ".py",
   "mimetype": "text/x-python",
   "name": "python",
   "nbconvert_exporter": "python",
   "pygments_lexer": "ipython3",
   "version": "3.6.1"
  }
 },
 "nbformat": 4,
 "nbformat_minor": 2
}
