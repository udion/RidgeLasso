{
 "cells": [
  {
   "cell_type": "code",
   "execution_count": 1,
   "metadata": {
    "collapsed": true
   },
   "outputs": [],
   "source": [
    "import numpy as np\n",
    "import pandas as pd\n"
   ]
  },
  {
   "cell_type": "code",
   "execution_count": 2,
   "metadata": {},
   "outputs": [
    {
     "data": {
      "text/plain": [
       "'\\nto make sample csv data file\\ndf = pd.DataFrame(np.random.random((15,25)))\\ndf.to_csv(\"test.csv\",index=False)\\n'"
      ]
     },
     "execution_count": 2,
     "metadata": {},
     "output_type": "execute_result"
    }
   ],
   "source": [
    "'''\n",
    "to make sample csv data file\n",
    "df = pd.DataFrame(np.random.random((15,25)))\n",
    "df.to_csv(\"test.csv\",index=False)\n",
    "'''"
   ]
  },
  {
   "cell_type": "code",
   "execution_count": 33,
   "metadata": {
    "collapsed": true
   },
   "outputs": [],
   "source": [
    "def get_feature_matrix(file_path):\n",
    "    df = pd.read_csv(file_path, header=0)\n",
    "    #print(df)\n",
    "    n_data = len(df.index)\n",
    "    n_feature = len(df.columns)\n",
    "    #print(n_data,n_feature)\n",
    "    '''\n",
    "    res = np.zeros((n_data, n_feature))\n",
    "\n",
    "    for i in range(0,n_feature):\n",
    "        res[:,i] = np.array(df.iloc[:,i])\n",
    "    return res\n",
    "    '''\n",
    "    res = df.values\n",
    "    return res"
   ]
  },
  {
   "cell_type": "code",
   "execution_count": 24,
   "metadata": {
    "collapsed": true
   },
   "outputs": [],
   "source": [
    "df = pd.read_csv('test.csv', header=0)\n",
    "res = np.zeros((15,25)) #dumb \n",
    "res[:,1] = np.array(df.iloc[:,1])\n",
    "#print(df.iloc[:,1])"
   ]
  },
  {
   "cell_type": "code",
   "execution_count": 35,
   "metadata": {},
   "outputs": [
    {
     "data": {
      "text/plain": [
       "25"
      ]
     },
     "execution_count": 35,
     "metadata": {},
     "output_type": "execute_result"
    }
   ],
   "source": [
    "mat = get_feature_matrix(\"test.csv\")\n",
    "len(mat[1,:])"
   ]
  },
  {
   "cell_type": "code",
   "execution_count": 17,
   "metadata": {
    "collapsed": true
   },
   "outputs": [],
   "source": [
    "def get_output(file_path):\n",
    "    \"\"\"\n",
    "    file_path: path to a file in the same format as in the Kaggle competition\n",
    "\n",
    "    Return: an n x 1 numpy array where n is the number of examples in the file.\n",
    "            The array must contain the Output column values of the file\n",
    "    \"\"\"\n",
    "    df = pd.read_csv(file_path,header=0)\n",
    "    res = np.array(df.iloc[:,len(df.columns)-1])\n",
    "    return res"
   ]
  },
  {
   "cell_type": "code",
   "execution_count": 18,
   "metadata": {},
   "outputs": [
    {
     "name": "stdout",
     "output_type": "stream",
     "text": [
      "[ 0.09869557  0.69812813  0.93275121  0.86231342  0.2139601   0.16262342\n",
      "  0.86965498  0.22749967  0.60856558  0.56011535  0.36868264  0.61233157\n",
      "  0.61652113  0.51744236  0.0297535 ]\n"
     ]
    }
   ],
   "source": [
    "Y = get_output('../data/randomtest.csv')\n",
    "print(Y)"
   ]
  },
  {
   "cell_type": "code",
   "execution_count": null,
   "metadata": {
    "collapsed": true
   },
   "outputs": [],
   "source": [
    "def do_gradient_descent(X,Y):\n",
    "    "
   ]
  }
 ],
 "metadata": {
  "kernelspec": {
   "display_name": "Python 3",
   "language": "python",
   "name": "python3"
  },
  "language_info": {
   "codemirror_mode": {
    "name": "ipython",
    "version": 3
   },
   "file_extension": ".py",
   "mimetype": "text/x-python",
   "name": "python",
   "nbconvert_exporter": "python",
   "pygments_lexer": "ipython3",
   "version": "3.6.1"
  }
 },
 "nbformat": 4,
 "nbformat_minor": 2
}
