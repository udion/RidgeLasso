{
 "cells": [
  {
   "cell_type": "code",
   "execution_count": 1,
   "metadata": {
    "collapsed": true
   },
   "outputs": [],
   "source": [
    "import numpy as np\n",
    "import pandas as pd\n"
   ]
  },
  {
   "cell_type": "code",
   "execution_count": 4,
   "metadata": {},
   "outputs": [
    {
     "data": {
      "text/plain": [
       "'\\nto make sample csv data file\\ndf = pd.DataFrame(np.random.random((15,25)))\\ndf.to_csv(\"test.csv\",index=False)\\n'"
      ]
     },
     "execution_count": 4,
     "metadata": {},
     "output_type": "execute_result"
    }
   ],
   "source": [
    "'''\n",
    "to make sample csv data file\n",
    "df = pd.DataFrame(np.random.random((15,25)))\n",
    "df.to_csv(\"test.csv\",index=False)\n",
    "'''"
   ]
  },
  {
   "cell_type": "code",
   "execution_count": 2,
   "metadata": {
    "collapsed": true
   },
   "outputs": [],
   "source": [
    "def get_feature_matrix(file_path):\n",
    "    df = pd.read_csv(file_path, header=0)\n",
    "    #print(df)\n",
    "    n_data = len(df.index)\n",
    "    n_feature = len(df.columns)\n",
    "    #print(n_data,n_feature)\n",
    "    '''\n",
    "    res = np.zeros((n_data, n_feature))\n",
    "\n",
    "    for i in range(0,n_feature):\n",
    "        res[:,i] = np.array(df.iloc[:,i])\n",
    "    return res\n",
    "    '''\n",
    "    res = df.values\n",
    "    return res"
   ]
  },
  {
   "cell_type": "code",
   "execution_count": 3,
   "metadata": {},
   "outputs": [
    {
     "data": {
      "text/plain": [
       "\"\\ndf = pd.read_csv('test.csv', header=0)\\nres = np.zeros((15,25)) #dumb \\nres[:,1] = np.array(df.iloc[:,1])\\n#print(df.iloc[:,1])\\n\""
      ]
     },
     "execution_count": 3,
     "metadata": {},
     "output_type": "execute_result"
    }
   ],
   "source": [
    "'''\n",
    "df = pd.read_csv('test.csv', header=0)\n",
    "res = np.zeros((15,25)) #dumb \n",
    "res[:,1] = np.array(df.iloc[:,1])\n",
    "#print(df.iloc[:,1])\n",
    "'''"
   ]
  },
  {
   "cell_type": "code",
   "execution_count": 7,
   "metadata": {},
   "outputs": [
    {
     "data": {
      "text/plain": [
       "25"
      ]
     },
     "execution_count": 7,
     "metadata": {},
     "output_type": "execute_result"
    }
   ],
   "source": [
    "mat = get_feature_matrix(\"../data/randomtest.csv\")\n",
    "len(mat[1,:])"
   ]
  },
  {
   "cell_type": "code",
   "execution_count": 19,
   "metadata": {},
   "outputs": [
    {
     "data": {
      "text/plain": [
       "array([[ -2.17664547e-01,  -2.86393830e-01,   1.38732399e-02,\n",
       "         -1.09970985e-01,   3.66581797e-01,  -2.70373667e-02,\n",
       "          1.49381737e-03,  -4.16837395e-01,   8.99768014e-02,\n",
       "         -4.13201527e-01,  -7.42588784e-02,  -1.23642305e-01,\n",
       "          2.13127262e-02,  -3.40809894e-01,  -8.99680913e-03,\n",
       "         -2.08356251e-01,  -5.02513784e-01,  -5.39836865e-01,\n",
       "          2.03501714e-01,  -1.17145152e-01,  -3.06981397e-01,\n",
       "          4.00668650e-02,   9.74451608e-02,   4.32995530e-01,\n",
       "         -3.93240341e-01],\n",
       "       [  2.39906021e-02,  -2.70360853e-02,  -2.43500327e-01,\n",
       "          5.78010440e-02,   2.69343459e-01,   3.14178216e-01,\n",
       "          2.49575497e-01,  -2.63207614e-01,   8.54235746e-02,\n",
       "         -4.54537108e-01,   8.39826420e-02,  -4.49977020e-01,\n",
       "          2.36513396e-01,   3.64552631e-01,   2.83421337e-01,\n",
       "          3.69752555e-01,  -3.06784831e-01,   1.64400299e-01,\n",
       "          2.48232010e-01,   6.18803654e-01,  -4.43476851e-01,\n",
       "          2.11387003e-01,  -9.26798297e-02,  -2.51139853e-02,\n",
       "          2.06192218e-01],\n",
       "       [ -3.52289860e-01,   3.48331403e-01,   2.52609228e-01,\n",
       "          1.06144136e-01,   9.17828400e-02,  -7.48014133e-03,\n",
       "         -1.33337524e-01,  -2.94074254e-01,  -1.80027728e-01,\n",
       "         -1.42892284e-01,   5.06757613e-02,  -1.37763645e-01,\n",
       "         -4.62500860e-03,  -5.59821218e-02,  -5.25833547e-01,\n",
       "         -3.50598148e-01,  -4.74907018e-01,   2.56138070e-01,\n",
       "          1.24432844e-01,   3.72044172e-03,  -4.56662953e-01,\n",
       "          1.98593763e-01,  -4.89873244e-02,   3.73326989e-01,\n",
       "          4.40815305e-01],\n",
       "       [  4.03134977e-01,  -2.53769786e-01,  -3.02560101e-02,\n",
       "          3.58979557e-01,  -4.28685756e-01,   3.47942104e-01,\n",
       "         -3.39671147e-01,   1.19162111e-01,   4.07567184e-01,\n",
       "         -2.52018190e-01,  -1.34934344e-01,  -4.44139609e-01,\n",
       "          7.03477278e-02,  -3.38077534e-01,   4.45715227e-01,\n",
       "          2.96308247e-01,   4.05014628e-01,   4.64998494e-02,\n",
       "         -1.22023041e-01,  -3.59923233e-01,   2.51641664e-01,\n",
       "         -1.20946321e-01,  -4.70128158e-01,   3.89566935e-01,\n",
       "          3.70377515e-01],\n",
       "       [  6.54535524e-02,  -2.58060523e-01,  -2.07808652e-01,\n",
       "         -6.23009216e-02,   3.60049939e-01,   3.60140853e-01,\n",
       "          1.83040256e-01,  -8.57326348e-02,  -4.20097415e-01,\n",
       "         -3.77095781e-01,   4.54613661e-01,   5.23005153e-03,\n",
       "         -1.72297356e-01,   3.38106099e-02,   3.87182082e-02,\n",
       "          2.08993127e-02,   1.94877164e-01,  -2.56470792e-02,\n",
       "         -1.87714120e-01,  -3.41610995e-01,   1.79120335e-01,\n",
       "          3.34576246e-01,  -5.70128556e-02,   3.85339533e-03,\n",
       "         -2.77975807e-01],\n",
       "       [  1.85991382e-01,  -2.27267163e-01,   2.29638221e-01,\n",
       "          4.05597215e-01,  -3.67927938e-02,  -1.28784017e-01,\n",
       "         -3.40705194e-01,   1.52648527e-01,   2.44310380e-01,\n",
       "          4.56425956e-01,  -3.06307494e-01,   4.03706254e-01,\n",
       "         -4.10581818e-01,  -4.83235867e-01,   1.20495141e-01,\n",
       "         -3.31859281e-01,   3.85527301e-01,  -6.42327888e-02,\n",
       "         -1.22856003e-01,   2.61329369e-02,  -3.62882452e-01,\n",
       "         -3.58588022e-01,  -1.08707806e-01,   3.10755977e-01,\n",
       "         -3.29312490e-01],\n",
       "       [  5.98908955e-02,   4.35134707e-01,   1.39307003e-01,\n",
       "         -2.75206681e-01,   7.80929559e-02,   1.75093376e-01,\n",
       "          5.22183042e-01,   2.97112435e-01,   3.36932982e-01,\n",
       "         -6.55760031e-02,  -3.60699428e-01,   4.34715978e-01,\n",
       "          1.17992065e-01,   3.18062024e-02,   2.87104366e-01,\n",
       "         -8.65837381e-02,   2.25299687e-02,  -9.76964882e-02,\n",
       "         -3.86598456e-01,  -3.42658835e-01,   8.98553137e-02,\n",
       "          8.15885646e-02,   2.37124492e-01,  -2.53757941e-01,\n",
       "          3.77719071e-01],\n",
       "       [ -2.04525824e-01,  -4.73321482e-01,  -2.69132956e-03,\n",
       "         -4.34062744e-01,   5.73317320e-02,  -5.54113103e-01,\n",
       "         -4.68597123e-02,  -2.35432589e-01,  -2.94050852e-01,\n",
       "         -8.51021680e-02,   5.07195891e-01,  -2.96998591e-01,\n",
       "          3.05782108e-01,  -3.40758861e-01,   1.31485389e-01,\n",
       "          3.80194212e-01,  -3.35904777e-01,  -2.07517966e-04,\n",
       "         -1.75528543e-01,   5.52456205e-01,   3.83343563e-01,\n",
       "         -1.05356954e-01,   2.61601401e-01,   4.30230134e-01,\n",
       "         -2.64436243e-01],\n",
       "       [  1.27498316e-01,   4.22685761e-01,  -4.56564330e-01,\n",
       "         -3.76246110e-01,  -1.53242308e-01,   2.40787925e-01,\n",
       "          1.72597557e-01,  -6.98559084e-02,  -3.89978540e-01,\n",
       "          1.07599033e-01,   4.58604277e-01,  -3.43827473e-01,\n",
       "          7.54750635e-02,   3.43080739e-01,  -2.44591826e-01,\n",
       "          4.59754790e-01,  -8.68473762e-02,  -6.33863050e-02,\n",
       "         -2.77656040e-01,  -3.07836657e-01,   1.75896037e-01,\n",
       "         -3.25747998e-01,  -2.71583482e-01,   1.30514516e-02,\n",
       "          1.16629674e-01],\n",
       "       [  4.28447563e-01,  -1.02758545e-01,  -1.24962508e-02,\n",
       "          1.59304528e-01,  -3.35823411e-01,  -5.70057395e-01,\n",
       "          3.11925978e-02,   4.68341822e-01,   5.37279171e-02,\n",
       "          5.53761015e-03,  -2.74219051e-01,   3.49393813e-01,\n",
       "          3.05676130e-01,  -1.68877604e-01,  -1.35502419e-01,\n",
       "          2.17652967e-01,  -1.20103760e-01,   2.81413035e-01,\n",
       "          1.55191557e-01,   3.11644120e-01,   6.56096109e-02,\n",
       "          1.51082293e-01,  -4.62932731e-01,  -1.89490303e-01,\n",
       "          6.81794381e-02],\n",
       "       [  5.45747384e-01,   4.65516353e-01,   1.58564168e-02,\n",
       "          1.09806949e-01,  -4.53294322e-01,   3.54262168e-01,\n",
       "         -7.20103319e-02,   2.41333644e-01,  -2.95250465e-01,\n",
       "          5.06184516e-02,  -2.86304298e-01,  -1.15459595e-01,\n",
       "          3.02972903e-01,   2.20585089e-01,  -7.40462024e-02,\n",
       "         -1.48612159e-01,   3.34435607e-01,   2.36398615e-01,\n",
       "         -4.09623097e-02,  -1.36492058e-01,  -3.16543200e-01,\n",
       "         -1.59588881e-01,  -2.55120625e-01,  -4.11279397e-01,\n",
       "         -1.23253269e-01],\n",
       "       [ -2.38727291e-01,  -3.16563760e-01,   2.25129889e-01,\n",
       "         -3.59348071e-01,  -3.16996281e-01,  -3.51441989e-01,\n",
       "         -4.04748933e-01,   9.83654270e-02,   2.82413000e-01,\n",
       "          3.41622999e-02,  -2.96798148e-01,  -7.51906320e-02,\n",
       "         -1.13371918e-01,  -5.83593716e-02,   2.19840934e-01,\n",
       "         -2.86785285e-01,   6.70675134e-02,  -5.23551126e-01,\n",
       "         -1.49427280e-01,   1.15146213e-02,  -2.22959931e-01,\n",
       "         -6.92982640e-02,   4.24204672e-01,   6.60434397e-02,\n",
       "          1.20395666e-01],\n",
       "       [ -3.74158518e-01,   1.67227834e-01,   1.97846556e-01,\n",
       "         -1.66167184e-01,   4.15357056e-01,  -6.21017041e-02,\n",
       "          3.83508756e-01,  -3.67133239e-01,  -4.53460235e-02,\n",
       "          4.76165173e-01,   2.84692515e-01,   5.80882369e-02,\n",
       "         -2.68653220e-01,   2.58419718e-01,  -1.55601832e-01,\n",
       "         -1.16418100e-01,   1.68833171e-01,  -2.39046255e-01,\n",
       "          5.83472063e-01,  -2.50992644e-01,   4.67688038e-01,\n",
       "          1.07809101e-01,   3.27370273e-01,  -1.63705577e-01,\n",
       "          1.24585218e-01],\n",
       "       [ -3.27710006e-01,  -3.43617645e-01,   3.26129630e-01,\n",
       "          2.79148728e-01,   1.12179481e-01,   2.74469154e-01,\n",
       "         -2.71160565e-01,  -7.23121515e-02,   4.44058952e-01,\n",
       "          4.58587792e-01,  -2.80362212e-01,   3.46312975e-01,\n",
       "         -2.32017957e-01,   4.25513203e-01,  -3.40282481e-01,\n",
       "         -1.04007266e-01,   3.35955696e-01,   2.36884777e-01,\n",
       "          5.31345966e-01,  -1.20544394e-01,   5.04682488e-01,\n",
       "         -3.42844951e-01,   3.04475655e-02,  -4.89660543e-01,\n",
       "          2.55064524e-02],\n",
       "       [ -1.25078627e-01,   4.49892761e-01,  -4.47073284e-01,\n",
       "          3.06520539e-01,  -2.58843865e-02,  -3.65858081e-01,\n",
       "          6.49018842e-02,   4.27621819e-01,  -3.19659768e-01,\n",
       "          2.01326746e-01,   1.74119107e-01,   3.89551563e-01,\n",
       "         -2.34524841e-01,   1.08333060e-01,  -4.19254867e-02,\n",
       "         -1.11341856e-01,  -8.71795027e-02,   3.31869781e-01,\n",
       "         -3.83410362e-01,   4.52931989e-01,  -8.33026614e-03,\n",
       "          3.57267554e-01,   3.88959249e-01,  -4.86816105e-01,\n",
       "         -4.62182407e-01]])"
      ]
     },
     "execution_count": 19,
     "metadata": {},
     "output_type": "execute_result"
    }
   ],
   "source": [
    "mat.mean(axis=0)\n",
    "mat - mat.mean(axis=0)"
   ]
  },
  {
   "cell_type": "code",
   "execution_count": 16,
   "metadata": {
    "collapsed": true
   },
   "outputs": [],
   "source": [
    "def get_output(file_path):\n",
    "    \"\"\"\n",
    "    file_path: path to a file in the same format as in the Kaggle competition\n",
    "\n",
    "    Return: an n x 1 numpy array where n is the number of examples in the file.\n",
    "            The array must contain the Output column values of the file\n",
    "    \"\"\"\n",
    "    df = pd.read_csv(file_path,header=0)\n",
    "    res = np.array(df.iloc[:,len(df.columns)-1])\n",
    "    return res"
   ]
  },
  {
   "cell_type": "code",
   "execution_count": 34,
   "metadata": {},
   "outputs": [
    {
     "name": "stdout",
     "output_type": "stream",
     "text": [
      "[-0.39324034  0.20619222  0.44081531  0.37037751 -0.27797581 -0.32931249\n",
      "  0.37771907 -0.26443624  0.11662967  0.06817944 -0.12325327  0.12039567\n",
      "  0.12458522  0.02550645 -0.46218241]\n"
     ]
    },
    {
     "data": {
      "text/plain": [
       "0.32721339532505961"
      ]
     },
     "execution_count": 34,
     "metadata": {},
     "output_type": "execute_result"
    }
   ],
   "source": [
    "Y = get_output('../data/randomtest.csv')\n",
    "print(Y - Y.mean())\n",
    "np.random.rand(3)\n",
    "np.linalg.norm(np.random.rand(3)*np.random.rand(3))"
   ]
  },
  {
   "cell_type": "code",
   "execution_count": 35,
   "metadata": {
    "collapsed": true
   },
   "outputs": [],
   "source": [
    "def get_cost(W,X,Y):\n",
    "    n = len(X[1,:])\n",
    "    m = len(Y)\n",
    "    cost = 0\n",
    "    for i in range(0,m):\n",
    "        cost += sum(W*X[i]) - Y[i]\n",
    "    cost = cost/(2*n)\n",
    "    \n",
    "    return cost"
   ]
  },
  {
   "cell_type": "code",
   "execution_count": 36,
   "metadata": {
    "collapsed": true
   },
   "outputs": [],
   "source": [
    "def do_gradient_descent(X,Y):\n",
    "    #both X,Y are numpy array\n",
    "    n = len(X[1,:]) #num of features\n",
    "    m = len(Y) #num of samples\n",
    "    X_mean = X.mean(axis=0)\n",
    "    Y_mean = Y.mean()\n",
    "    \n",
    "    #recentering the data\n",
    "    X = X - X_mean\n",
    "    Y = Y - Y_mean\n",
    "    #hard coded alpha\n",
    "    alpha = 0.01\n",
    "    \n",
    "    #the weight vector initialised\n",
    "    W = np.random.rand(n)\n",
    "    W_ = np.zeros(n)\n",
    "    \n",
    "    #my epsilon\n",
    "    eps = 0.001\n",
    "    \n",
    "    step = 0\n",
    "    norm_diff_w = np.linalg.norm(W-W_)\n",
    "    while(norm_diff_w > eps): \n",
    "        step += 1\n",
    "        for k in range(0,n):\n",
    "            dJ_dwk = 0\n",
    "            for i in range(0,m):\n",
    "                dJ_dwk += (sum(W*X[i,:])-Y[i])*X[i,k]\n",
    "            dJ_dwk = dJ_dwk/n\n",
    "            W_[k] = W[k] - alpha*dJ_dwk\n",
    "        temp = W\n",
    "        W = W_\n",
    "        W_ = temp\n",
    "        J = get_cost(W,X,Y)\n",
    "        norm_diff_w = np.linalg.norm(W-W_)\n",
    "        print('step={0}, J={1}, norm of diff of W={3}'.format(step,J,norm_diff_w))"
   ]
  },
  {
   "cell_type": "code",
   "execution_count": 46,
   "metadata": {},
   "outputs": [
    {
     "name": "stdout",
     "output_type": "stream",
     "text": [
      "27\n"
     ]
    }
   ],
   "source": [
    "tr = get_feature_matrix('../data/train.csv')\n",
    "f = len(tr[1,:])\n",
    "X = tr[:,0:f-1]\n",
    "Y = tr[:,f-1]\n",
    "print(f)"
   ]
  },
  {
   "cell_type": "code",
   "execution_count": 53,
   "metadata": {},
   "outputs": [
    {
     "ename": "TypeError",
     "evalue": "unsupported operand type(s) for +: 'int' and 'str'",
     "output_type": "error",
     "traceback": [
      "\u001b[0;31m---------------------------------------------------------------------------\u001b[0m",
      "\u001b[0;31mTypeError\u001b[0m                                 Traceback (most recent call last)",
      "\u001b[0;32m<ipython-input-53-944ad257a664>\u001b[0m in \u001b[0;36m<module>\u001b[0;34m()\u001b[0m\n\u001b[0;32m----> 1\u001b[0;31m \u001b[0mX\u001b[0m\u001b[0;34m.\u001b[0m\u001b[0mmean\u001b[0m\u001b[0;34m(\u001b[0m\u001b[0;34m)\u001b[0m\u001b[0;34m\u001b[0m\u001b[0m\n\u001b[0m",
      "\u001b[0;32m/home/ud/anaconda3/lib/python3.6/site-packages/numpy/core/_methods.py\u001b[0m in \u001b[0;36m_mean\u001b[0;34m(a, axis, dtype, out, keepdims)\u001b[0m\n\u001b[1;32m     68\u001b[0m             \u001b[0mis_float16_result\u001b[0m \u001b[0;34m=\u001b[0m \u001b[0;32mTrue\u001b[0m\u001b[0;34m\u001b[0m\u001b[0m\n\u001b[1;32m     69\u001b[0m \u001b[0;34m\u001b[0m\u001b[0m\n\u001b[0;32m---> 70\u001b[0;31m     \u001b[0mret\u001b[0m \u001b[0;34m=\u001b[0m \u001b[0mumr_sum\u001b[0m\u001b[0;34m(\u001b[0m\u001b[0marr\u001b[0m\u001b[0;34m,\u001b[0m \u001b[0maxis\u001b[0m\u001b[0;34m,\u001b[0m \u001b[0mdtype\u001b[0m\u001b[0;34m,\u001b[0m \u001b[0mout\u001b[0m\u001b[0;34m,\u001b[0m \u001b[0mkeepdims\u001b[0m\u001b[0;34m)\u001b[0m\u001b[0;34m\u001b[0m\u001b[0m\n\u001b[0m\u001b[1;32m     71\u001b[0m     \u001b[0;32mif\u001b[0m \u001b[0misinstance\u001b[0m\u001b[0;34m(\u001b[0m\u001b[0mret\u001b[0m\u001b[0;34m,\u001b[0m \u001b[0mmu\u001b[0m\u001b[0;34m.\u001b[0m\u001b[0mndarray\u001b[0m\u001b[0;34m)\u001b[0m\u001b[0;34m:\u001b[0m\u001b[0;34m\u001b[0m\u001b[0m\n\u001b[1;32m     72\u001b[0m         ret = um.true_divide(\n",
      "\u001b[0;31mTypeError\u001b[0m: unsupported operand type(s) for +: 'int' and 'str'"
     ]
    }
   ],
   "source": [
    "X.mean()"
   ]
  }
 ],
 "metadata": {
  "kernelspec": {
   "display_name": "Python 3",
   "language": "python",
   "name": "python3"
  },
  "language_info": {
   "codemirror_mode": {
    "name": "ipython",
    "version": 3
   },
   "file_extension": ".py",
   "mimetype": "text/x-python",
   "name": "python",
   "nbconvert_exporter": "python",
   "pygments_lexer": "ipython3",
   "version": "3.6.1"
  }
 },
 "nbformat": 4,
 "nbformat_minor": 2
}
