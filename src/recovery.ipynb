{
 "cells": [
  {
   "cell_type": "code",
   "execution_count": 2,
   "metadata": {},
   "outputs": [],
   "source": [
    "import pickle\n",
    "import numpy as np\n",
    "import pandas as pd"
   ]
  },
  {
   "cell_type": "code",
   "execution_count": 6,
   "metadata": {},
   "outputs": [],
   "source": [
    "f = open('../results/simpleLinear_cubedFeatures_noYClipping_again', 'rb')\n",
    "res = pickle.load(f)"
   ]
  },
  {
   "cell_type": "code",
   "execution_count": 11,
   "metadata": {},
   "outputs": [
    {
     "data": {
      "text/plain": [
       "array([ -9.74920814, -19.27806141,  -6.71612096,   1.23716825,\n",
       "        -9.45237174,  -9.0095436 ,   0.1311377 ,  -4.61295311,\n",
       "         2.90581709,   0.80183601,   3.22805319,  -8.71192061,\n",
       "        -5.40364609,   8.98075427,   3.6148165 ,  13.41929203,\n",
       "         4.36945907,   6.96467801,   5.81297467,   5.0196314 ,\n",
       "         8.68775597,   3.74756416,   3.2350929 ,  -5.79391737,\n",
       "        23.90890198,  46.33565489,  18.56623094,  -0.68502374,\n",
       "        14.91682672,  23.2023632 ,   0.181332  ,  12.59054103,\n",
       "        -4.66684105, -12.91434082,   7.94119726,   1.82575428,\n",
       "         8.56092716, -28.46512801,  -7.43266581, -39.58267064,\n",
       "       -10.12171325, -10.3305816 ,  -8.22786783,  -7.84614514,\n",
       "       -21.35024399,  18.63224307,   2.87404541, -12.83558643,\n",
       "       -13.71109163, -23.51834479, -11.31135861,  -1.31765225,\n",
       "        -4.24668504, -11.25377724,  -1.45634331,  -7.97620383,\n",
       "         2.48090347,  14.77835847,  -2.55407909,   8.77004725,\n",
       "        -3.04100884,  18.72445416,   3.50998303,  20.96805289,\n",
       "         3.47613111,   0.71788427,   0.72930182,   3.66315568,\n",
       "         8.90545628, -18.65615439,  -6.46719343,  14.4295417 ,  97.86846157])"
      ]
     },
     "execution_count": 11,
     "metadata": {},
     "output_type": "execute_result"
    }
   ],
   "source": [
    "res[2]"
   ]
  },
  {
   "cell_type": "code",
   "execution_count": 12,
   "metadata": {
    "collapsed": true
   },
   "outputs": [],
   "source": [
    "def engineerdFeatures(mat):\n",
    "    M = mat\n",
    "    M = np.append(mat, np.power(mat,2), axis=1)\n",
    "    M = np.append(M, np.power(mat,3), axis=1)\n",
    "    return M"
   ]
  },
  {
   "cell_type": "code",
   "execution_count": 19,
   "metadata": {},
   "outputs": [],
   "source": [
    "df = pd.read_csv('../data/train.csv', header=0)\n",
    "#the total of 24 valueable features\n",
    "#the first 1 is not helpful \n",
    "#however and datetime data can be used, <----tried various experiment, doesn't really help\n",
    "c = len(df.iloc[0,:])\n",
    "df_ = df.iloc[:,2:c]\n",
    "idldata = df_.iloc[:,0:-1].values\n",
    "idldata = engineerdFeatures(idldata)\n",
    "tunedMean = np.mean(idldata,axis=0)\n",
    "tunedStd = np.std(idldata, axis=0)"
   ]
  },
  {
   "cell_type": "code",
   "execution_count": 20,
   "metadata": {
    "collapsed": true
   },
   "outputs": [],
   "source": [
    "def get_feature_matrix(file_path):\n",
    "    df = pd.read_csv(file_path, header=0)\n",
    "    #the total of 24 valueable features\n",
    "    #the first 1 is not helpful \n",
    "    #however and datetime data can be used, <----tried various experiment, doesn't really help\n",
    "    c = len(df.iloc[0,:])\n",
    "    df_ = df.iloc[:,2:c]\n",
    "\n",
    "    if len(df_.iloc[0,:])==25:\n",
    "        print('loading training data...')\n",
    "        res = df_.iloc[:,0:-1].values\n",
    "        res = engineerdFeatures(res)\n",
    "        res = normalizeMydata(res, np.mean(res, axis=0), np.std(res, axis=0))\n",
    "    else:\n",
    "        print('loading testing data...')\n",
    "        res = df_.values\n",
    "        res = engineerdFeatures(res)\n",
    "        res = normalizeMydata(res, tunedMean, tunedStd)    \n",
    "        return res"
   ]
  },
  {
   "cell_type": "code",
   "execution_count": 22,
   "metadata": {
    "collapsed": true
   },
   "outputs": [],
   "source": [
    "def normalizeMydata(data, tunedMean, tunedStdd):\n",
    "    data_ = np.array(data, dtype=np.float32)\n",
    "    data_ = (data-tunedMean)/tunedStdd\n",
    "    return data_\n"
   ]
  },
  {
   "cell_type": "code",
   "execution_count": 23,
   "metadata": {},
   "outputs": [
    {
     "name": "stdout",
     "output_type": "stream",
     "text": [
      "loading testing data...\n"
     ]
    }
   ],
   "source": [
    "testX = get_feature_matrix('../data/test_features.csv')"
   ]
  },
  {
   "cell_type": "code",
   "execution_count": 26,
   "metadata": {},
   "outputs": [],
   "source": [
    "test_X_1 = np.append(testX, np.ones([len(testX[:,0]),1]), axis=1)"
   ]
  },
  {
   "cell_type": "code",
   "execution_count": 27,
   "metadata": {
    "collapsed": true
   },
   "outputs": [],
   "source": [
    "predicted_Y = np.dot(test_X_1, res[2])"
   ]
  },
  {
   "cell_type": "code",
   "execution_count": 28,
   "metadata": {},
   "outputs": [
    {
     "data": {
      "text/plain": [
       "array([  90.67511866,   98.3373062 ,  141.76855464, ...,   73.76474966,\n",
       "        115.3428889 ,  133.34833346])"
      ]
     },
     "execution_count": 28,
     "metadata": {},
     "output_type": "execute_result"
    }
   ],
   "source": [
    "predicted_Y\n"
   ]
  },
  {
   "cell_type": "code",
   "execution_count": 29,
   "metadata": {
    "collapsed": true
   },
   "outputs": [],
   "source": [
    "file_name = 'simpleLinear_cubedFeatures_noYClipping_again'\n",
    "n_res = len(predicted_Y)\n",
    "index = range(1,n_res+1)\n",
    "resdf = pd.DataFrame()\n",
    "resdf['id'] = index\n",
    "resdf['output'] = predicted_Y\n",
    "resdf.to_csv('../results/'+file_name+'.csv', header = 1, index=0)"
   ]
  }
 ],
 "metadata": {
  "kernelspec": {
   "display_name": "Python 3",
   "language": "python",
   "name": "python3"
  },
  "language_info": {
   "codemirror_mode": {
    "name": "ipython",
    "version": 3
   },
   "file_extension": ".py",
   "mimetype": "text/x-python",
   "name": "python",
   "nbconvert_exporter": "python",
   "pygments_lexer": "ipython3",
   "version": "3.6.1"
  }
 },
 "nbformat": 4,
 "nbformat_minor": 2
}
